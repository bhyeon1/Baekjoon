{
  "nbformat": 4,
  "nbformat_minor": 0,
  "metadata": {
    "colab": {
      "provenance": [],
      "authorship_tag": "ABX9TyPKOMLvjyagXdf/AovP+nGr",
      "include_colab_link": true
    },
    "kernelspec": {
      "name": "python3",
      "display_name": "Python 3"
    },
    "language_info": {
      "name": "python"
    }
  },
  "cells": [
    {
      "cell_type": "markdown",
      "metadata": {
        "id": "view-in-github",
        "colab_type": "text"
      },
      "source": [
        "<a href=\"https://colab.research.google.com/github/bhyeon1/Baekjoon/blob/main/Haribo_class.ipynb\" target=\"_parent\"><img src=\"https://colab.research.google.com/assets/colab-badge.svg\" alt=\"Open In Colab\"/></a>"
      ]
    },
    {
      "cell_type": "code",
      "source": [
        "import tensorflow as tf\n",
        "from tensorflow.keras import layers, models\n",
        "from tensorflow.keras.preprocessing.image import ImageDataGenerator\n",
        "from tensorflow.keras.applications import MobileNetV2\n",
        "from tensorflow.keras.callbacks import EarlyStopping, ReduceLROnPlateau\n",
        "import matplotlib.pyplot as plt"
      ],
      "metadata": {
        "id": "YFoZuaFFpu8h"
      },
      "execution_count": 25,
      "outputs": []
    },
    {
      "cell_type": "code",
      "source": [
        "import zipfile\n",
        "import os\n",
        "from google.colab import drive\n",
        "\n",
        "# ✅ Google Drive 마운트\n",
        "drive.mount('/content/drive')\n",
        "\n",
        "# ✅ 정확한 zip 파일 경로\n",
        "zip_filename = \"/content/drive/MyDrive/Colab Notebooks/haribo_data.zip\"\n",
        "\n",
        "# ✅ 압축 해제할 경로 (Colab 작업 디렉토리에 풀기)\n",
        "extract_path = \"/content/drive/MyDrive/Colab Notebooks\"\n",
        "\n",
        "\n",
        "# ✅ 압축 해제\n",
        "with zipfile.ZipFile(zip_filename, 'r') as zip_ref:\n",
        "    zip_ref.extractall(extract_path)\n",
        "\n",
        "print(\"압축 해제 완료:\", extract_path)"
      ],
      "metadata": {
        "colab": {
          "base_uri": "https://localhost:8080/"
        },
        "id": "og7E-LM-6Q-I",
        "outputId": "ffaeaeb8-94ab-476a-f607-753590014d93"
      },
      "execution_count": 40,
      "outputs": [
        {
          "output_type": "stream",
          "name": "stdout",
          "text": [
            "Drive already mounted at /content/drive; to attempt to forcibly remount, call drive.mount(\"/content/drive\", force_remount=True).\n",
            "압축 해제 완료: /content/drive/MyDrive/Colab Notebooks\n"
          ]
        }
      ]
    },
    {
      "cell_type": "code",
      "execution_count": 41,
      "metadata": {
        "id": "HSIlrKGUkyc-",
        "colab": {
          "base_uri": "https://localhost:8080/"
        },
        "outputId": "ec811b88-4e10-4ca5-c2f7-6cc4882c99ac"
      },
      "outputs": [
        {
          "output_type": "stream",
          "name": "stdout",
          "text": [
            "Drive already mounted at /content/drive; to attempt to forcibly remount, call drive.mount(\"/content/drive\", force_remount=True).\n"
          ]
        }
      ],
      "source": [
        "from google.colab import drive\n",
        "drive.mount('/content/drive')"
      ]
    },
    {
      "cell_type": "code",
      "source": [
        "data_path = '/content/drive/MyDrive/Colab Notebooks/haribo_data'"
      ],
      "metadata": {
        "id": "Zswnbfm8ozKM"
      },
      "execution_count": 43,
      "outputs": []
    },
    {
      "cell_type": "code",
      "source": [
        "data_path"
      ],
      "metadata": {
        "id": "wanCqRvYo9Oq",
        "colab": {
          "base_uri": "https://localhost:8080/",
          "height": 35
        },
        "outputId": "dffa611d-11dc-4d1b-a440-7264cc6c445d"
      },
      "execution_count": 44,
      "outputs": [
        {
          "output_type": "execute_result",
          "data": {
            "text/plain": [
              "'/content/drive/MyDrive/Colab Notebooks/haribo_data'"
            ],
            "application/vnd.google.colaboratory.intrinsic+json": {
              "type": "string"
            }
          },
          "metadata": {},
          "execution_count": 44
        }
      ]
    },
    {
      "cell_type": "code",
      "source": [
        "# 경로 설정\n",
        "data_dir = '/content/drive/MyDrive/Colab Notebooks/haribo_data'\n",
        "\n",
        "# 전처리 및 증강\n",
        "img_size = (128, 128)\n",
        "batch_size = 32\n",
        "\n",
        "datagen = ImageDataGenerator(\n",
        "    rescale=1./255,\n",
        "    rotation_range=20,\n",
        "    width_shift_range=0.1,\n",
        "    height_shift_range=0.1,\n",
        "    brightness_range=(0.8, 1.2),\n",
        "    zoom_range=0.2,\n",
        "    horizontal_flip=True,\n",
        "    validation_split=0.2\n",
        ")\n",
        "\n",
        "train_gen = datagen.flow_from_directory(\n",
        "    data_dir,\n",
        "    target_size=img_size,\n",
        "    batch_size=batch_size,\n",
        "    class_mode='categorical',\n",
        "    subset='training'\n",
        ")\n",
        "\n",
        "val_gen = datagen.flow_from_directory(\n",
        "    data_dir,\n",
        "    target_size=img_size,\n",
        "    batch_size=batch_size,\n",
        "    class_mode='categorical',\n",
        "    subset='validation'\n",
        ")"
      ],
      "metadata": {
        "id": "jqioAn6MpBuy",
        "colab": {
          "base_uri": "https://localhost:8080/"
        },
        "outputId": "59147822-85f9-41c7-9970-fd2fd16c4c6e"
      },
      "execution_count": 45,
      "outputs": [
        {
          "output_type": "stream",
          "name": "stdout",
          "text": [
            "Found 1658 images belonging to 5 classes.\n",
            "Found 414 images belonging to 5 classes.\n"
          ]
        }
      ]
    },
    {
      "cell_type": "code",
      "source": [
        "# 전이학습 모델 로드 및 일부 층만 fine-tune\n",
        "base_model = MobileNetV2(input_shape=img_size + (3,),\n",
        "                         include_top=False,\n",
        "                         weights='imagenet')\n",
        "\n",
        "base_model.trainable = True  # 전체 레이어 훈련 가능\n",
        "\n",
        "# 앞부분은 동결, 뒷부분만 훈련\n",
        "for layer in base_model.layers[:-30]:\n",
        "    layer.trainable = False"
      ],
      "metadata": {
        "id": "sodvF_hSRwv6"
      },
      "execution_count": 46,
      "outputs": []
    },
    {
      "cell_type": "code",
      "source": [
        "# 전체 모델 구성\n",
        "model = models.Sequential([\n",
        "    base_model,\n",
        "    layers.GlobalAveragePooling2D(),\n",
        "    layers.Dense(256),\n",
        "    layers.BatchNormalization(),\n",
        "    layers.Activation('relu'),\n",
        "    layers.Dropout(0.4),\n",
        "    layers.Dense(train_gen.num_classes, activation='softmax')\n",
        "])"
      ],
      "metadata": {
        "id": "2HUMGBnapYd6"
      },
      "execution_count": 48,
      "outputs": []
    },
    {
      "cell_type": "code",
      "source": [
        "# 컴파일\n",
        "model.compile(\n",
        "    optimizer=tf.keras.optimizers.Adam(learning_rate=1e-4),  # 낮은 lr 사용\n",
        "    loss='categorical_crossentropy',\n",
        "    metrics=['accuracy']\n",
        ")\n",
        "\n",
        "# 콜백\n",
        "early_stop = EarlyStopping(monitor='val_loss', patience=5, restore_best_weights=True)\n",
        "lr_scheduler = ReduceLROnPlateau(monitor='val_loss', factor=0.5, patience=3)"
      ],
      "metadata": {
        "id": "Vt7GDJXHpwrP"
      },
      "execution_count": 49,
      "outputs": []
    },
    {
      "cell_type": "code",
      "source": [
        "# 학습\n",
        "history = model.fit(\n",
        "    train_gen,\n",
        "    validation_data=val_gen,\n",
        "    epochs=30,\n",
        "    callbacks=[early_stop, lr_scheduler],\n",
        "    verbose=2\n",
        ")"
      ],
      "metadata": {
        "id": "a2TT3dh0p0xZ",
        "colab": {
          "base_uri": "https://localhost:8080/"
        },
        "outputId": "ec248605-eeef-4636-a5ee-9297bd8e4a4c"
      },
      "execution_count": 50,
      "outputs": [
        {
          "output_type": "stream",
          "name": "stdout",
          "text": [
            "Epoch 1/30\n",
            "52/52 - 67s - 1s/step - accuracy: 0.8432 - loss: 0.4988 - val_accuracy: 0.6304 - val_loss: 1.0576 - learning_rate: 1.0000e-04\n",
            "Epoch 2/30\n",
            "52/52 - 46s - 885ms/step - accuracy: 0.9885 - loss: 0.0631 - val_accuracy: 0.6449 - val_loss: 1.2319 - learning_rate: 1.0000e-04\n",
            "Epoch 3/30\n",
            "52/52 - 46s - 891ms/step - accuracy: 0.9982 - loss: 0.0283 - val_accuracy: 0.7005 - val_loss: 1.0116 - learning_rate: 1.0000e-04\n",
            "Epoch 4/30\n",
            "52/52 - 86s - 2s/step - accuracy: 0.9982 - loss: 0.0218 - val_accuracy: 0.6981 - val_loss: 1.0196 - learning_rate: 1.0000e-04\n",
            "Epoch 5/30\n",
            "52/52 - 46s - 886ms/step - accuracy: 0.9988 - loss: 0.0175 - val_accuracy: 0.7319 - val_loss: 0.8757 - learning_rate: 1.0000e-04\n",
            "Epoch 6/30\n",
            "52/52 - 45s - 874ms/step - accuracy: 0.9976 - loss: 0.0148 - val_accuracy: 0.7343 - val_loss: 0.9114 - learning_rate: 1.0000e-04\n",
            "Epoch 7/30\n",
            "52/52 - 47s - 902ms/step - accuracy: 0.9988 - loss: 0.0108 - val_accuracy: 0.7850 - val_loss: 0.7882 - learning_rate: 1.0000e-04\n",
            "Epoch 8/30\n",
            "52/52 - 47s - 913ms/step - accuracy: 0.9988 - loss: 0.0094 - val_accuracy: 0.7850 - val_loss: 0.8115 - learning_rate: 1.0000e-04\n",
            "Epoch 9/30\n",
            "52/52 - 46s - 889ms/step - accuracy: 0.9982 - loss: 0.0093 - val_accuracy: 0.8478 - val_loss: 0.6339 - learning_rate: 1.0000e-04\n",
            "Epoch 10/30\n",
            "52/52 - 50s - 966ms/step - accuracy: 0.9982 - loss: 0.0072 - val_accuracy: 0.8551 - val_loss: 0.4788 - learning_rate: 1.0000e-04\n",
            "Epoch 11/30\n",
            "52/52 - 77s - 1s/step - accuracy: 0.9988 - loss: 0.0070 - val_accuracy: 0.8527 - val_loss: 0.5386 - learning_rate: 1.0000e-04\n",
            "Epoch 12/30\n",
            "52/52 - 47s - 900ms/step - accuracy: 0.9988 - loss: 0.0074 - val_accuracy: 0.8502 - val_loss: 0.5241 - learning_rate: 1.0000e-04\n",
            "Epoch 13/30\n",
            "52/52 - 47s - 911ms/step - accuracy: 1.0000 - loss: 0.0039 - val_accuracy: 0.8720 - val_loss: 0.4384 - learning_rate: 1.0000e-04\n",
            "Epoch 14/30\n",
            "52/52 - 46s - 893ms/step - accuracy: 0.9982 - loss: 0.0070 - val_accuracy: 0.8720 - val_loss: 0.3812 - learning_rate: 1.0000e-04\n",
            "Epoch 15/30\n",
            "52/52 - 45s - 875ms/step - accuracy: 0.9976 - loss: 0.0084 - val_accuracy: 0.8720 - val_loss: 0.5071 - learning_rate: 1.0000e-04\n",
            "Epoch 16/30\n",
            "52/52 - 46s - 890ms/step - accuracy: 0.9982 - loss: 0.0063 - val_accuracy: 0.8696 - val_loss: 0.4521 - learning_rate: 1.0000e-04\n",
            "Epoch 17/30\n",
            "52/52 - 47s - 903ms/step - accuracy: 0.9994 - loss: 0.0038 - val_accuracy: 0.8937 - val_loss: 0.3899 - learning_rate: 1.0000e-04\n",
            "Epoch 18/30\n",
            "52/52 - 85s - 2s/step - accuracy: 0.9994 - loss: 0.0033 - val_accuracy: 0.8816 - val_loss: 0.3766 - learning_rate: 5.0000e-05\n",
            "Epoch 19/30\n",
            "52/52 - 47s - 907ms/step - accuracy: 0.9994 - loss: 0.0068 - val_accuracy: 0.9058 - val_loss: 0.3352 - learning_rate: 5.0000e-05\n",
            "Epoch 20/30\n",
            "52/52 - 46s - 883ms/step - accuracy: 1.0000 - loss: 0.0025 - val_accuracy: 0.8937 - val_loss: 0.3345 - learning_rate: 5.0000e-05\n",
            "Epoch 21/30\n",
            "52/52 - 49s - 945ms/step - accuracy: 1.0000 - loss: 0.0021 - val_accuracy: 0.9179 - val_loss: 0.2089 - learning_rate: 5.0000e-05\n",
            "Epoch 22/30\n",
            "52/52 - 46s - 885ms/step - accuracy: 1.0000 - loss: 0.0033 - val_accuracy: 0.9275 - val_loss: 0.2147 - learning_rate: 5.0000e-05\n",
            "Epoch 23/30\n",
            "52/52 - 47s - 900ms/step - accuracy: 0.9988 - loss: 0.0036 - val_accuracy: 0.9300 - val_loss: 0.2041 - learning_rate: 5.0000e-05\n",
            "Epoch 24/30\n",
            "52/52 - 82s - 2s/step - accuracy: 0.9994 - loss: 0.0035 - val_accuracy: 0.9251 - val_loss: 0.2022 - learning_rate: 5.0000e-05\n",
            "Epoch 25/30\n",
            "52/52 - 85s - 2s/step - accuracy: 0.9988 - loss: 0.0040 - val_accuracy: 0.9227 - val_loss: 0.2151 - learning_rate: 5.0000e-05\n",
            "Epoch 26/30\n",
            "52/52 - 47s - 895ms/step - accuracy: 1.0000 - loss: 0.0021 - val_accuracy: 0.9420 - val_loss: 0.1677 - learning_rate: 5.0000e-05\n",
            "Epoch 27/30\n",
            "52/52 - 47s - 895ms/step - accuracy: 1.0000 - loss: 0.0027 - val_accuracy: 0.9348 - val_loss: 0.1830 - learning_rate: 5.0000e-05\n",
            "Epoch 28/30\n",
            "52/52 - 50s - 963ms/step - accuracy: 1.0000 - loss: 0.0024 - val_accuracy: 0.9493 - val_loss: 0.1487 - learning_rate: 5.0000e-05\n",
            "Epoch 29/30\n",
            "52/52 - 46s - 880ms/step - accuracy: 1.0000 - loss: 0.0026 - val_accuracy: 0.9420 - val_loss: 0.1564 - learning_rate: 5.0000e-05\n",
            "Epoch 30/30\n",
            "52/52 - 48s - 915ms/step - accuracy: 1.0000 - loss: 0.0022 - val_accuracy: 0.9469 - val_loss: 0.1335 - learning_rate: 5.0000e-05\n"
          ]
        }
      ]
    },
    {
      "cell_type": "code",
      "source": [
        "# 평가\n",
        "val_loss, val_acc = model.evaluate(val_gen, verbose=0)\n",
        "print(f\"✅ Fine-tuned Validation Accuracy: {val_acc:.4f}\")"
      ],
      "metadata": {
        "id": "YabRPRDHR_NJ",
        "colab": {
          "base_uri": "https://localhost:8080/"
        },
        "outputId": "557223bd-adff-46d2-c2d5-79ed7f91a7c7"
      },
      "execution_count": 51,
      "outputs": [
        {
          "output_type": "stream",
          "name": "stdout",
          "text": [
            "✅ Fine-tuned Validation Accuracy: 0.9589\n"
          ]
        }
      ]
    },
    {
      "cell_type": "code",
      "source": [
        "# 시각화\n",
        "plt.figure(figsize=(12, 5))\n",
        "plt.subplot(1, 2, 1)\n",
        "plt.plot(history.history['accuracy'], label='Train Acc')\n",
        "plt.plot(history.history['val_accuracy'], label='Val Acc')\n",
        "plt.title('Accuracy')\n",
        "plt.legend()\n",
        "\n",
        "plt.subplot(1, 2, 2)\n",
        "plt.plot(history.history['loss'], label='Train Loss')\n",
        "plt.plot(history.history['val_loss'], label='Val Loss')\n",
        "plt.title('Loss')\n",
        "plt.legend()\n",
        "plt.tight_layout()\n",
        "plt.show()"
      ],
      "metadata": {
        "id": "tWC9JPOPp1o_",
        "colab": {
          "base_uri": "https://localhost:8080/",
          "height": 507
        },
        "outputId": "29859e81-b6b6-4c47-f454-6971af921534"
      },
      "execution_count": 52,
      "outputs": [
        {
          "output_type": "display_data",
          "data": {
            "text/plain": [
              "<Figure size 1200x500 with 2 Axes>"
            ],
            "image/png": "[encoded data removed]"
          },
          "metadata": {}
        }
      ]
    },
    {
      "cell_type": "code",
      "source": [
        "print(train_gen.class_indices)"
      ],
      "metadata": {
        "id": "gq-ynDAh88Ub",
        "colab": {
          "base_uri": "https://localhost:8080/"
        },
        "outputId": "c1706aef-2a2d-4572-e2c3-f4103da2b2aa"
      },
      "execution_count": 53,
      "outputs": [
        {
          "output_type": "stream",
          "name": "stdout",
          "text": [
            "{'green': 0, 'orange': 1, 'red': 2, 'white': 3, 'yellow': 4}\n"
          ]
        }
      ]
    },
    {
      "cell_type": "code",
      "source": [
        "model.save(\"haribo_model.h5\")"
      ],
      "metadata": {
        "id": "0WxSKQVuracA",
        "colab": {
          "base_uri": "https://localhost:8080/"
        },
        "outputId": "35d54bae-3cdd-4bca-f59b-281645aac907"
      },
      "execution_count": 54,
      "outputs": [
        {
          "output_type": "stream",
          "name": "stderr",
          "text": [
            "WARNING:absl:You are saving your model as an HDF5 file via `model.save()` or `keras.saving.save_model(model)`. This file format is considered legacy. We recommend using instead the native Keras format, e.g. `model.save('my_model.keras')` or `keras.saving.save_model(model, 'my_model.keras')`. \n"
          ]
        }
      ]
    },
    {
      "cell_type": "code",
      "source": [
        "from google.colab import drive\n",
        "drive.mount(\"/content/drive\")\n",
        "\n",
        "model.save(\"/content/drive/MyDrive/haribo_model.h5\")"
      ],
      "metadata": {
        "id": "ldlkZBPTylL-",
        "colab": {
          "base_uri": "https://localhost:8080/"
        },
        "outputId": "59e8b757-fcb6-43f2-be33-c5021a999b6a"
      },
      "execution_count": 55,
      "outputs": [
        {
          "output_type": "stream",
          "name": "stderr",
          "text": [
            "WARNING:absl:You are saving your model as an HDF5 file via `model.save()` or `keras.saving.save_model(model)`. This file format is considered legacy. We recommend using instead the native Keras format, e.g. `model.save('my_model.keras')` or `keras.saving.save_model(model, 'my_model.keras')`. \n"
          ]
        },
        {
          "output_type": "stream",
          "name": "stdout",
          "text": [
            "Drive already mounted at /content/drive; to attempt to forcibly remount, call drive.mount(\"/content/drive\", force_remount=True).\n"
          ]
        }
      ]
    },
    {
      "cell_type": "code",
      "source": [],
      "metadata": {
        "id": "tnv6AZTbziOY"
      },
      "execution_count": null,
      "outputs": []
    }
  ]
}